{
  "nbformat": 4,
  "nbformat_minor": 0,
  "metadata": {
    "colab": {
      "name": "Untitled3.ipynb",
      "provenance": [],
      "collapsed_sections": []
    },
    "kernelspec": {
      "name": "python3",
      "display_name": "Python 3"
    },
    "accelerator": "GPU"
  },
  "cells": [
    {
      "cell_type": "code",
      "metadata": {
        "id": "vyW3U4gTYvkB"
      },
      "source": [
        "import pandas as pd #making some of our usual imports inorder to solve the problem in hand \n",
        "import tensorflow as tf\n",
        "from tensorflow.keras.preprocessing import image\n",
        "\n",
        "from tensorflow.keras.models import Sequential #importing our deep learing libraries\n",
        "from tensorflow.keras.layers import Conv2D, MaxPooling2D, Flatten, Dense, Dropout, Activation\n",
        "from tensorflow.keras.preprocessing import image_dataset_from_directory"
      ],
      "execution_count": null,
      "outputs": []
    },
    {
      "cell_type": "code",
      "metadata": {
        "colab": {
          "base_uri": "https://localhost:8080/"
        },
        "id": "6m88T-LRZPbt",
        "outputId": "d2fd2a7f-e7b5-49ff-d389-b91be116bf89"
      },
      "source": [
        "IMG_SIZE = (256, 256)\n",
        "train_dataset = image_dataset_from_directory('/content/drive/MyDrive/IRIS-Gender/labeled_data/Left/CLAHE/train', labels='inferred', label_mode='binary', class_names=None, \n",
        "                                             color_mode='rgb', batch_size=32, image_size= IMG_SIZE, shuffle=True)\n",
        "validation_dataset = image_dataset_from_directory('/content/drive/MyDrive/IRIS-Gender/labeled_data/Left/CLAHE/valid', labels='inferred', label_mode='binary', class_names=None,\n",
        "                                                  color_mode='rgb', batch_size=32, image_size=IMG_SIZE, shuffle=True)\n",
        "test_dataset = image_dataset_from_directory('/content/drive/MyDrive/IRIS-Gender/labeled_data/Left/CLAHE/test', labels='inferred', label_mode='binary', class_names=None, \n",
        "                                            color_mode='rgb', batch_size=32, image_size=IMG_SIZE, shuffle=True)"
      ],
      "execution_count": null,
      "outputs": [
        {
          "output_type": "stream",
          "text": [
            "Found 1292 files belonging to 2 classes.\n",
            "Found 282 files belonging to 2 classes.\n",
            "Found 281 files belonging to 2 classes.\n"
          ],
          "name": "stdout"
        }
      ]
    },
    {
      "cell_type": "code",
      "metadata": {
        "id": "rqdi3aGSY7WP"
      },
      "source": [
        "model = Sequential() #making our CNN\n",
        "model.add(Conv2D(filters = 8, kernel_size = (9, 9), activation = 'relu', input_shape = (256,256,3)))\n",
        "model.add(MaxPooling2D(pool_size = (2, 2)))\n",
        "# model.add(Dropout(rate = 0.3))\n",
        "\n",
        "model.add(Conv2D(filters = 16, kernel_size = (3, 3), activation = 'relu'))\n",
        "model.add(MaxPooling2D(pool_size = (2, 2)))\n",
        "# model.add(Dropout(rate = 0.2))\n",
        "\n",
        "model.add(Conv2D(filters = 32, kernel_size = (3, 3), activation = 'relu'))\n",
        "model.add(MaxPooling2D(pool_size = (2, 2)))\n",
        "# model.add(Dropout(rate = 0.15))\n",
        "\n",
        "model.add(Conv2D(filters = 64, kernel_size = (3, 3), activation = 'relu'))\n",
        "model.add(MaxPooling2D(pool_size = (2, 2)))\n",
        "\n",
        "model.add(Flatten())\n",
        "# model.add(Dropout(rate = 0.15))\n",
        "model.add(Dense(units = 512, activation = 'relu'))\n",
        "model.add(Dense(units = 64, activation = 'relu'))\n",
        "# model.add(Dropout(rate = 0.1))\n",
        "\n",
        "model.add(Dense(units = 2, activation = 'softmax'))"
      ],
      "execution_count": null,
      "outputs": []
    },
    {
      "cell_type": "code",
      "metadata": {
        "id": "6kbz0w1iZb_S"
      },
      "source": [
        "# model.compile(optimizer='adam', loss='categorical_crossentropy', metrics=['accuracy'])\n",
        "# Compile model\n",
        "import tensorflow as tf\n",
        "base_learning_rate = 0.0001\n",
        "model.compile(optimizer=tf.keras.optimizers.Adam(lr=base_learning_rate),\n",
        "              loss=tf.keras.losses.SparseCategoricalCrossentropy(\n",
        "    from_logits=False, reduction=\"auto\", name=\"sparse_categorical_crossentropy\"),\n",
        "              metrics=['accuracy'])"
      ],
      "execution_count": null,
      "outputs": []
    },
    {
      "cell_type": "code",
      "metadata": {
        "colab": {
          "base_uri": "https://localhost:8080/"
        },
        "id": "uDBe44ONZhhl",
        "outputId": "6ef68a28-178c-47ab-a314-42a9d1831e1b"
      },
      "source": [
        "history = model.fit(train_dataset, epochs=5, validation_data=validation_dataset)"
      ],
      "execution_count": null,
      "outputs": [
        {
          "output_type": "stream",
          "text": [
            "Epoch 1/5\n",
            "41/41 [==============================] - 1101s 27s/step - loss: 6.2730 - accuracy: 0.6300 - val_loss: 0.6007 - val_accuracy: 0.7376\n",
            "Epoch 2/5\n",
            "41/41 [==============================] - 111s 3s/step - loss: 0.2486 - accuracy: 0.9110 - val_loss: 0.4034 - val_accuracy: 0.8546\n",
            "Epoch 3/5\n",
            "41/41 [==============================] - 111s 3s/step - loss: 0.1056 - accuracy: 0.9628 - val_loss: 0.4153 - val_accuracy: 0.8652\n",
            "Epoch 4/5\n",
            "41/41 [==============================] - 110s 3s/step - loss: 0.0571 - accuracy: 0.9845 - val_loss: 0.3838 - val_accuracy: 0.8794\n",
            "Epoch 5/5\n",
            "41/41 [==============================] - 110s 3s/step - loss: 0.0663 - accuracy: 0.9791 - val_loss: 0.4045 - val_accuracy: 0.8582\n"
          ],
          "name": "stdout"
        }
      ]
    },
    {
      "cell_type": "code",
      "metadata": {
        "id": "gjPYZF0MidNJ"
      },
      "source": [
        "def testing_image(image_directory): #testing out our model\n",
        "    test_image = image.load_img(image_directory, target_size = (256, 256))\n",
        "    test_image = image.img_to_array(test_image)\n",
        "    test_image = np.expand_dims(test_image, axis = 0)\n",
        "    result = model.predict(x = test_image)\n",
        "    print(result)\n",
        "    if result[0][0]>result[0][1]:\n",
        "        prediction = 'female'\n",
        "        # print(prediction)\n",
        "        return 1\n",
        "    else:\n",
        "        prediction = 'male'\n",
        "        # print(prediction)\n",
        "        return 0"
      ],
      "execution_count": null,
      "outputs": []
    },
    {
      "cell_type": "code",
      "metadata": {
        "id": "po1dxgXUid0C"
      },
      "source": [
        "import os\n",
        "from tensorflow.keras.preprocessing import image\n",
        "import numpy as np\n",
        "test_dir='/content/drive/MyDrive/IRIS-Gender/labeled_data/Left/CLAHE/test'\n",
        "test_male=os.listdir(\"/content/drive/MyDrive/IRIS-Gender/labeled_data/Left/CLAHE/test/male\")\n",
        "test_female=os.listdir(\"/content/drive/MyDrive/IRIS-Gender/labeled_data/Left/CLAHE/test/female\")"
      ],
      "execution_count": null,
      "outputs": []
    },
    {
      "cell_type": "code",
      "metadata": {
        "id": "vst7eW9WigjB",
        "colab": {
          "base_uri": "https://localhost:8080/"
        },
        "outputId": "283c3e28-f2d1-450d-db56-0453e2bdace9"
      },
      "source": [
        "TP=0\n",
        "FP=0\n",
        "for file in test_male:\n",
        "    x=testing_image(test_dir + '/male/' + str(file))\n",
        "    if x==0 :\n",
        "        TP+=1\n",
        "    else:\n",
        "        FP+=1\n",
        "\n",
        "print(TP,FP)"
      ],
      "execution_count": null,
      "outputs": [
        {
          "output_type": "stream",
          "text": [
            "[[0.36339644 0.6366036 ]]\n",
            "[[0.22021914 0.77978086]]\n",
            "[[0.07583734 0.9241627 ]]\n",
            "[[8.513741e-04 9.991486e-01]]\n",
            "[[2.3725402e-04 9.9976271e-01]]\n",
            "[[5.753793e-04 9.994247e-01]]\n",
            "[[3.628032e-04 9.996371e-01]]\n",
            "[[0.00365333 0.99634665]]\n",
            "[[0.00732877 0.99267125]]\n",
            "[[4.7808862e-05 9.9995220e-01]]\n",
            "[[6.9736845e-05 9.9993026e-01]]\n",
            "[[3.184082e-05 9.999682e-01]]\n",
            "[[0.01000742 0.98999256]]\n",
            "[[0.00494235 0.9950577 ]]\n",
            "[[0.00571025 0.99428976]]\n",
            "[[0.12327623 0.87672377]]\n",
            "[[0.1345903 0.8654097]]\n",
            "[[0.03411478 0.9658852 ]]\n",
            "[[0.34485334 0.65514666]]\n",
            "[[0.10308789 0.8969121 ]]\n",
            "[[0.2652225 0.7347775]]\n",
            "[[7.2122697e-04 9.9927884e-01]]\n",
            "[[0.01824694 0.9817531 ]]\n",
            "[[0.0064631 0.9935369]]\n",
            "[[5.7557120e-04 9.9942446e-01]]\n",
            "[[0.00121915 0.9987809 ]]\n",
            "[[0.00431083 0.9956892 ]]\n",
            "[[1.8435762e-04 9.9981564e-01]]\n",
            "[[3.139009e-04 9.996861e-01]]\n",
            "[[1.9647507e-04 9.9980360e-01]]\n",
            "[[0.00176987 0.99823016]]\n",
            "[[0.01121981 0.98878014]]\n",
            "[[0.02222507 0.977775  ]]\n",
            "[[0.01995268 0.9800473 ]]\n",
            "[[0.01224546 0.9877545 ]]\n",
            "[[0.01936273 0.9806373 ]]\n",
            "[[0.03946871 0.9605313 ]]\n",
            "[[0.02208595 0.97791404]]\n",
            "[[0.02033941 0.9796606 ]]\n",
            "[[0.01501113 0.9849888 ]]\n",
            "[[0.00870523 0.9912948 ]]\n",
            "[[0.01126845 0.98873156]]\n",
            "[[1.7031286e-06 9.9999833e-01]]\n",
            "[[8.513426e-05 9.999149e-01]]\n",
            "[[7.278130e-06 9.999927e-01]]\n",
            "[[6.6195434e-04 9.9933797e-01]]\n",
            "[[0.29428247 0.70571756]]\n",
            "[[0.01919558 0.9808044 ]]\n",
            "[[5.8992719e-04 9.9941003e-01]]\n",
            "[[5.490209e-04 9.994510e-01]]\n",
            "[[5.704734e-04 9.994295e-01]]\n",
            "[[0.02764927 0.9723508 ]]\n",
            "[[0.0025012 0.9974988]]\n",
            "[[0.03555524 0.9644447 ]]\n",
            "[[0.1241767 0.8758233]]\n",
            "[[0.24507163 0.75492835]]\n",
            "[[0.29094958 0.7090504 ]]\n",
            "[[0.9419539  0.05804607]]\n",
            "[[0.88761914 0.11238088]]\n",
            "[[0.44227302 0.55772704]]\n",
            "[[1.08794055e-04 9.99891162e-01]]\n",
            "[[3.4254117e-05 9.9996579e-01]]\n",
            "[[1.2066391e-04 9.9987936e-01]]\n",
            "[[0.00444644 0.99555355]]\n",
            "[[0.00301405 0.996986  ]]\n",
            "[[0.00263934 0.99736065]]\n",
            "[[0.569453   0.43054694]]\n",
            "[[0.29966846 0.7003315 ]]\n",
            "[[0.17843322 0.8215668 ]]\n",
            "[[0.1627148 0.8372852]]\n",
            "[[0.09421121 0.90578884]]\n",
            "[[0.02115881 0.9788411 ]]\n",
            "[[0.0537762 0.9462238]]\n",
            "[[0.00115186 0.9988481 ]]\n",
            "[[7.590291e-04 9.992410e-01]]\n",
            "[[9.0935314e-04 9.9909067e-01]]\n",
            "[[0.01593617 0.98406386]]\n",
            "[[0.13524243 0.8647576 ]]\n",
            "[[0.35999107 0.6400089 ]]\n",
            "[[0.02717688 0.97282314]]\n",
            "[[0.05667186 0.94332814]]\n",
            "[[6.2625797e-04 9.9937373e-01]]\n",
            "[[1.5111023e-05 9.9998486e-01]]\n",
            "[[3.2531546e-04 9.9967468e-01]]\n",
            "[[9.3286450e-05 9.9990666e-01]]\n",
            "[[1.1541830e-05 9.9998844e-01]]\n",
            "[[5.9677954e-05 9.9994028e-01]]\n",
            "[[0.00123575 0.9987643 ]]\n",
            "[[2.7332347e-04 9.9972671e-01]]\n",
            "[[6.8991131e-04 9.9931014e-01]]\n",
            "[[0.00728946 0.9927106 ]]\n",
            "[[0.00866206 0.9913379 ]]\n",
            "[[0.00142671 0.9985733 ]]\n",
            "[[0.09042441 0.9095756 ]]\n",
            "[[0.05579879 0.9442012 ]]\n",
            "[[0.05218469 0.9478153 ]]\n",
            "[[0.00101061 0.9989894 ]]\n",
            "[[4.0744903e-04 9.9959260e-01]]\n",
            "[[3.8863014e-04 9.9961144e-01]]\n",
            "[[0.00405621 0.9959437 ]]\n",
            "[[0.01087808 0.98912185]]\n",
            "[[0.01073519 0.9892647 ]]\n",
            "[[0.00337692 0.99662304]]\n",
            "[[0.00804366 0.99195635]]\n",
            "[[0.0364533  0.96354675]]\n",
            "[[0.07570236 0.92429763]]\n",
            "[[0.06277336 0.93722665]]\n",
            "[[0.02695424 0.97304577]]\n",
            "[[0.7359116  0.26408842]]\n",
            "[[0.08159823 0.9184017 ]]\n",
            "[[0.22961599 0.770384  ]]\n",
            "[[9.9313797e-07 9.9999905e-01]]\n",
            "[[2.7722104e-05 9.9997222e-01]]\n",
            "[[4.6111027e-06 9.9999535e-01]]\n",
            "[[4.6045167e-05 9.9995399e-01]]\n",
            "[[5.7959136e-05 9.9994206e-01]]\n",
            "[[1.5062997e-05 9.9998498e-01]]\n",
            "[[0.06422434 0.93577564]]\n",
            "[[0.02481057 0.97518945]]\n",
            "[[0.09104162 0.9089584 ]]\n",
            "[[4.0508484e-04 9.9959499e-01]]\n",
            "[[2.1341148e-04 9.9978656e-01]]\n",
            "[[1.2374348e-04 9.9987626e-01]]\n",
            "[[0.00496016 0.9950399 ]]\n",
            "[[0.00837296 0.9916271 ]]\n",
            "[[0.00762468 0.9923753 ]]\n",
            "[[0.00112975 0.9988702 ]]\n",
            "[[0.00187447 0.9981255 ]]\n",
            "[[0.00113297 0.99886703]]\n",
            "[[0.9592532  0.04074674]]\n",
            "[[0.930361 0.069639]]\n",
            "[[0.91852945 0.08147057]]\n",
            "[[0.5551469  0.44485316]]\n",
            "[[0.8616998  0.13830021]]\n",
            "[[0.9179949  0.08200512]]\n",
            "[[0.36853993 0.6314601 ]]\n",
            "[[0.08469754 0.91530246]]\n",
            "[[0.41965967 0.5803403 ]]\n",
            "[[1.01667436e-04 9.99898314e-01]]\n",
            "[[4.0931536e-06 9.9999595e-01]]\n",
            "130 10\n"
          ],
          "name": "stdout"
        }
      ]
    },
    {
      "cell_type": "code",
      "metadata": {
        "id": "MIZwbMsSikUp",
        "colab": {
          "base_uri": "https://localhost:8080/"
        },
        "outputId": "37b652ae-5d30-4696-c8f8-c1a82088eb93"
      },
      "source": [
        "TN=0\n",
        "FN=0\n",
        "for file in test_female:\n",
        "    x=testing_image(test_dir + '/female/' + str(file))\n",
        "    if x==1 :\n",
        "        TN+=1\n",
        "    else:\n",
        "        FN+=1\n",
        "\n",
        "print(TN,FN)"
      ],
      "execution_count": null,
      "outputs": [
        {
          "output_type": "stream",
          "text": [
            "[[9.999937e-01 6.325285e-06]]\n",
            "[[9.999956e-01 4.466227e-06]]\n",
            "[[9.9999416e-01 5.7993529e-06]]\n",
            "[[0.01428216 0.9857179 ]]\n",
            "[[0.17893454 0.8210654 ]]\n",
            "[[0.03339071 0.96660936]]\n",
            "[[0.9523146  0.04768535]]\n",
            "[[0.8056459  0.19435415]]\n",
            "[[0.98510635 0.01489365]]\n",
            "[[9.9999237e-01 7.6356355e-06]]\n",
            "[[9.9997222e-01 2.7763508e-05]]\n",
            "[[9.9994028e-01 5.9707614e-05]]\n",
            "[[0.00389733 0.9961027 ]]\n",
            "[[0.01109588 0.9889042 ]]\n",
            "[[0.01748235 0.98251766]]\n",
            "[[9.9997020e-01 2.9782797e-05]]\n",
            "[[9.9999487e-01 5.1172506e-06]]\n",
            "[[9.9999905e-01 9.2933828e-07]]\n",
            "[[9.9991083e-01 8.9208523e-05]]\n",
            "[[9.999455e-01 5.445835e-05]]\n",
            "[[9.999263e-01 7.364588e-05]]\n",
            "[[9.9980527e-01 1.9471304e-04]]\n",
            "[[9.995907e-01 4.092804e-04]]\n",
            "[[9.9989581e-01 1.0413375e-04]]\n",
            "[[0.9960974  0.00390263]]\n",
            "[[9.9948251e-01 5.1742286e-04]]\n",
            "[[9.9920136e-01 7.9865422e-04]]\n",
            "[[9.993186e-01 6.814038e-04]]\n",
            "[[0.9986945 0.0013056]]\n",
            "[[0.9532901  0.04670983]]\n",
            "[[9.9982578e-01 1.7428324e-04]]\n",
            "[[9.9993503e-01 6.4988439e-05]]\n",
            "[[9.9999249e-01 7.5360063e-06]]\n",
            "[[0.9891473  0.01085273]]\n",
            "[[9.992161e-01 7.838842e-04]]\n",
            "[[0.9946196  0.00538043]]\n",
            "[[0.9299458  0.07005422]]\n",
            "[[0.81421226 0.18578774]]\n",
            "[[0.918482   0.08151805]]\n",
            "[[9.9974912e-01 2.5085124e-04]]\n",
            "[[9.9983644e-01 1.6357633e-04]]\n",
            "[[9.995472e-01 4.528383e-04]]\n",
            "[[9.9998271e-01 1.7280727e-05]]\n",
            "[[9.9998295e-01 1.7057446e-05]]\n",
            "[[9.9998271e-01 1.7280727e-05]]\n",
            "[[9.9992859e-01 7.1437134e-05]]\n",
            "[[9.9997878e-01 2.1197982e-05]]\n",
            "[[9.9997294e-01 2.7025941e-05]]\n",
            "[[9.993874e-01 6.125984e-04]]\n",
            "[[9.9928445e-01 7.1554497e-04]]\n",
            "[[0.9984983  0.00150168]]\n",
            "[[0.99852043 0.00147963]]\n",
            "[[0.994441   0.00555905]]\n",
            "[[9.9931383e-01 6.8616786e-04]]\n",
            "[[0.97608644 0.02391356]]\n",
            "[[0.9137889  0.08621109]]\n",
            "[[0.99101627 0.00898372]]\n",
            "[[9.9995410e-01 4.5885565e-05]]\n",
            "[[9.999938e-01 6.195134e-06]]\n",
            "[[9.9999475e-01 5.2861988e-06]]\n",
            "[[0.99668944 0.00331057]]\n",
            "[[0.99873394 0.00126612]]\n",
            "[[0.99892896 0.001071  ]]\n",
            "[[1.0000000e+00 6.5949743e-09]]\n",
            "[[9.9999976e-01 2.2016843e-07]]\n",
            "[[9.999999e-01 6.393473e-08]]\n",
            "[[9.999901e-01 9.872051e-06]]\n",
            "[[9.9998581e-01 1.4162997e-05]]\n",
            "[[9.9999809e-01 1.9055713e-06]]\n",
            "[[9.9999857e-01 1.4301097e-06]]\n",
            "[[9.9999738e-01 2.6334235e-06]]\n",
            "[[9.9999535e-01 4.6438395e-06]]\n",
            "[[9.9995935e-01 4.0691630e-05]]\n",
            "[[9.992999e-01 7.000716e-04]]\n",
            "[[9.9989796e-01 1.0202649e-04]]\n",
            "[[0.97844964 0.02155038]]\n",
            "[[0.9984654  0.00153465]]\n",
            "[[0.99737036 0.00262963]]\n",
            "[[9.9963808e-01 3.6188954e-04]]\n",
            "[[9.9997592e-01 2.4076031e-05]]\n",
            "[[9.9998367e-01 1.6361782e-05]]\n",
            "[[9.9988425e-01 1.1575068e-04]]\n",
            "[[9.9995399e-01 4.5999695e-05]]\n",
            "[[9.999565e-01 4.355499e-05]]\n",
            "[[9.999306e-01 6.933249e-05]]\n",
            "[[9.999391e-01 6.086375e-05]]\n",
            "[[9.9998844e-01 1.1589457e-05]]\n",
            "[[0.99406767 0.00593228]]\n",
            "[[0.9450562  0.05494375]]\n",
            "[[0.9897026 0.0102974]]\n",
            "[[0.97903216 0.02096778]]\n",
            "[[0.93689924 0.06310073]]\n",
            "[[0.94909936 0.05090068]]\n",
            "[[6.4234965e-04 9.9935764e-01]]\n",
            "[[0.00117919 0.99882084]]\n",
            "[[2.185442e-04 9.997814e-01]]\n",
            "[[9.9999964e-01 4.0850315e-07]]\n",
            "[[9.9999774e-01 2.3034504e-06]]\n",
            "[[9.9999785e-01 2.1417350e-06]]\n",
            "[[0.9843961  0.01560389]]\n",
            "[[0.90386456 0.09613538]]\n",
            "[[0.9805259  0.01947411]]\n",
            "[[9.9989569e-01 1.0429017e-04]]\n",
            "[[9.9993277e-01 6.7240202e-05]]\n",
            "[[9.9998415e-01 1.5906679e-05]]\n",
            "[[9.999993e-01 7.324618e-07]]\n",
            "[[9.9999821e-01 1.8098509e-06]]\n",
            "[[9.9999392e-01 6.0299462e-06]]\n",
            "[[9.9999762e-01 2.4316712e-06]]\n",
            "[[9.9999988e-01 1.4387454e-07]]\n",
            "[[9.9999952e-01 4.2785535e-07]]\n",
            "[[9.999951e-01 4.884314e-06]]\n",
            "[[9.9998915e-01 1.0891865e-05]]\n",
            "[[9.9999738e-01 2.6230966e-06]]\n",
            "[[9.999995e-01 4.562643e-07]]\n",
            "[[9.9999964e-01 3.7108822e-07]]\n",
            "[[9.999999e-01 1.453466e-07]]\n",
            "[[9.999938e-01 6.222258e-06]]\n",
            "[[9.9976391e-01 2.3606242e-04]]\n",
            "[[9.9970043e-01 2.9956375e-04]]\n",
            "[[0.93258566 0.06741434]]\n",
            "[[0.935398   0.06460207]]\n",
            "[[0.96266145 0.03733854]]\n",
            "[[0.9980552  0.00194477]]\n",
            "[[0.9987379  0.00126219]]\n",
            "[[0.9987967  0.00120327]]\n",
            "[[9.9997413e-01 2.5876609e-05]]\n",
            "[[9.9996996e-01 3.0055193e-05]]\n",
            "[[9.9999475e-01 5.2185724e-06]]\n",
            "[[9.9995136e-01 4.8678132e-05]]\n",
            "[[9.999720e-01 2.802302e-05]]\n",
            "[[9.9991596e-01 8.4001244e-05]]\n",
            "[[9.9999917e-01 8.4601896e-07]]\n",
            "[[9.9999976e-01 2.5445073e-07]]\n",
            "[[9.9999976e-01 1.9753736e-07]]\n",
            "[[9.9997473e-01 2.5284258e-05]]\n",
            "[[9.9997365e-01 2.6292042e-05]]\n",
            "[[9.9989545e-01 1.0448258e-04]]\n",
            "[[9.9996114e-01 3.8874648e-05]]\n",
            "[[9.9995673e-01 4.3257856e-05]]\n",
            "[[9.9993646e-01 6.3492822e-05]]\n",
            "132 9\n"
          ],
          "name": "stdout"
        }
      ]
    },
    {
      "cell_type": "code",
      "metadata": {
        "colab": {
          "base_uri": "https://localhost:8080/"
        },
        "id": "gX8xt05nrrZC",
        "outputId": "5f38a71f-d4f7-472d-e27c-04d5a5821f08"
      },
      "source": [
        "test_Accuracy=(TP+TN)/(TP+TN+FP+FN)\n",
        "print(test_Accuracy)"
      ],
      "execution_count": null,
      "outputs": [
        {
          "output_type": "stream",
          "text": [
            "0.9323843416370107\n"
          ],
          "name": "stdout"
        }
      ]
    },
    {
      "cell_type": "code",
      "metadata": {
        "colab": {
          "base_uri": "https://localhost:8080/"
        },
        "id": "3cnpAmDesMH6",
        "outputId": "cb9ca290-f883-496d-b9ed-260194ddf673"
      },
      "source": [
        "!pip install PyYAML\n",
        "# serialize model to YAML\n",
        "model_yaml = model.to_yaml()\n",
        "with open(\"model.yaml\", \"w\") as yaml_file:\n",
        "    yaml_file.write(model_yaml)\n",
        "# serialize weights to HDF5\n",
        "model.save_weights(\"model.h5\")\n",
        "print(\"Saved model to disk\")"
      ],
      "execution_count": null,
      "outputs": [
        {
          "output_type": "stream",
          "text": [
            "Requirement already satisfied: PyYAML in /usr/local/lib/python3.6/dist-packages (3.13)\n",
            "Saved model to disk\n"
          ],
          "name": "stdout"
        }
      ]
    },
    {
      "cell_type": "code",
      "metadata": {
        "id": "suAijrL-s4d0"
      },
      "source": [
        "# load YAML and create model\n",
        "yaml_file = open('model.yaml', 'r')\n",
        "loaded_model_yaml = yaml_file.read()\n",
        "yaml_file.close()"
      ],
      "execution_count": null,
      "outputs": []
    },
    {
      "cell_type": "code",
      "metadata": {
        "colab": {
          "base_uri": "https://localhost:8080/"
        },
        "id": "OktK4xvNtENF",
        "outputId": "45e00a1a-ab49-4fc2-9f2d-f679ddca6936"
      },
      "source": [
        "from keras.models import model_from_yaml\n",
        "loaded_model = model_from_yaml(loaded_model_yaml)\n",
        "# load weights into new model\n",
        "loaded_model.load_weights(\"model.h5\")\n",
        "print(\"Loaded model from disk\")"
      ],
      "execution_count": null,
      "outputs": [
        {
          "output_type": "stream",
          "text": [
            "Loaded model from disk\n"
          ],
          "name": "stdout"
        }
      ]
    },
    {
      "cell_type": "code",
      "metadata": {
        "id": "iT5EsmwetFG6"
      },
      "source": [
        "base_learning_rate = 0.0001\n",
        "loaded_model.compile(optimizer=tf.keras.optimizers.Adam(lr=base_learning_rate),\n",
        "              loss=tf.keras.losses.SparseCategoricalCrossentropy(\n",
        "    from_logits=False, reduction=\"auto\", name=\"sparse_categorical_crossentropy\"),\n",
        "              metrics=['accuracy'])"
      ],
      "execution_count": null,
      "outputs": []
    },
    {
      "cell_type": "code",
      "metadata": {
        "id": "1z30gOsEtisY"
      },
      "source": [
        "def testing_image_afterLoading(image_directory): #testing out our model\n",
        "    test_image = image.load_img(image_directory, target_size = (256, 256))\n",
        "    test_image = image.img_to_array(test_image)\n",
        "    test_image = np.expand_dims(test_image, axis = 0)\n",
        "    result = loaded_model.predict(x = test_image)\n",
        "    print(result)\n",
        "    if result[0][0]> result[0][1]:\n",
        "        prediction = 'female'\n",
        "        print(prediction)\n",
        "        return 1\n",
        "    else:\n",
        "        prediction = 'male'\n",
        "        print(prediction)\n",
        "        return 0"
      ],
      "execution_count": null,
      "outputs": []
    },
    {
      "cell_type": "code",
      "metadata": {
        "colab": {
          "base_uri": "https://localhost:8080/"
        },
        "id": "Jw4j6YGBuE8G",
        "outputId": "d9040edc-a34d-4d13-ea9b-faecdb488a79"
      },
      "source": [
        "print(testing_image_afterLoading(\"/content/1602.JPG\"))"
      ],
      "execution_count": null,
      "outputs": [
        {
          "output_type": "stream",
          "text": [
            "[[0.99105024 0.00894979]]\n",
            "female\n",
            "1\n"
          ],
          "name": "stdout"
        }
      ]
    },
    {
      "cell_type": "code",
      "metadata": {
        "colab": {
          "base_uri": "https://localhost:8080/"
        },
        "id": "GFkU_ebluevR",
        "outputId": "b4b9c386-d2f3-49c2-ac0d-d46ac88b4914"
      },
      "source": [
        "print(testing_image_afterLoading(\"/content/1609.JPG\"))"
      ],
      "execution_count": null,
      "outputs": [
        {
          "output_type": "stream",
          "text": [
            "[[0.9739657  0.02603423]]\n",
            "female\n",
            "1\n"
          ],
          "name": "stdout"
        }
      ]
    },
    {
      "cell_type": "code",
      "metadata": {
        "id": "6kneHkp3u9EN"
      },
      "source": [
        "print(testing_image_afterLoading(\"/content/drive/MyDrive/IRIS-Gender/labeled_data/Left/CLAHE/Male/673/2673.JPG\"))"
      ],
      "execution_count": null,
      "outputs": []
    },
    {
      "cell_type": "code",
      "metadata": {
        "id": "RJe8sLmFvX97",
        "colab": {
          "base_uri": "https://localhost:8080/"
        },
        "outputId": "cbb4b59d-3eb9-457f-dc1c-a641882529c1"
      },
      "source": [
        "print(testing_image_afterLoading(\"/content/2609.JPG\"))"
      ],
      "execution_count": 52,
      "outputs": [
        {
          "output_type": "stream",
          "text": [
            "[[0.9702378  0.02976219]]\n",
            "female\n",
            "1\n"
          ],
          "name": "stdout"
        }
      ]
    },
    {
      "cell_type": "code",
      "metadata": {
        "id": "8C68bazazaKb",
        "colab": {
          "base_uri": "https://localhost:8080/"
        },
        "outputId": "20ac0380-4006-4597-f6e5-cfb8c2e8b4b9"
      },
      "source": [
        "import numpy as np\n",
        "import cv2 as cv\n",
        "img = cv.imread('/content/2609.JPG',0)\n",
        "# create a CLAHE object (Arguments are optional).\n",
        "clahe = cv.createCLAHE(clipLimit=2.0, tileGridSize=(8,8))\n",
        "cl1 = clahe.apply(img)\n",
        "\n",
        "cv2.imwrite('/content/2609.JPG', cl1) \n"
      ],
      "execution_count": 48,
      "outputs": [
        {
          "output_type": "execute_result",
          "data": {
            "text/plain": [
              "True"
            ]
          },
          "metadata": {
            "tags": []
          },
          "execution_count": 48
        }
      ]
    },
    {
      "cell_type": "code",
      "metadata": {
        "colab": {
          "base_uri": "https://localhost:8080/"
        },
        "id": "_TB9VNyP2cwJ",
        "outputId": "df07c9bb-8e2b-41b3-f8f4-9e3f1a60c112"
      },
      "source": [
        "print(testing_image_afterLoading(\"/content/2609_clahy.JPG\"))"
      ],
      "execution_count": 53,
      "outputs": [
        {
          "output_type": "stream",
          "text": [
            "[[0.07583734 0.9241627 ]]\n",
            "male\n",
            "0\n"
          ],
          "name": "stdout"
        }
      ]
    },
    {
      "cell_type": "code",
      "metadata": {
        "id": "2cT9q8272jV2"
      },
      "source": [
        ""
      ],
      "execution_count": null,
      "outputs": []
    }
  ]
}